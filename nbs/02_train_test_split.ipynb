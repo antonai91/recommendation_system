{
 "cells": [
  {
   "cell_type": "code",
   "execution_count": 1,
   "metadata": {
    "collapsed": true
   },
   "outputs": [],
   "source": [
    "import sys\n",
    "sys.path.append(\"../src/\")\n",
    "import os\n",
    "import pandas as pd\n",
    "import numpy as np\n",
    "import tensorflow as tf\n",
    "from sklearn.model_selection import train_test_split\n",
    "from config import *"
   ]
  },
  {
   "cell_type": "code",
   "execution_count": 2,
   "outputs": [],
   "source": [
    "pd.options.display.max_columns=999\n",
    "pd.options.display.max_rows=999"
   ],
   "metadata": {
    "collapsed": false,
    "pycharm": {
     "name": "#%%\n"
    }
   }
  },
  {
   "cell_type": "code",
   "execution_count": 3,
   "outputs": [],
   "source": [
    "df = pd.read_parquet(\"../data/processed/df_rating_movie.parquet\")"
   ],
   "metadata": {
    "collapsed": false,
    "pycharm": {
     "name": "#%%\n"
    }
   }
  },
  {
   "cell_type": "code",
   "execution_count": 4,
   "outputs": [
    {
     "data": {
      "text/plain": "   userId  movieId  rating   timestamp  \\\n0       1      296     5.0  1147880044   \n1       1      306     3.5  1147868817   \n2       1      307     5.0  1147868828   \n3       1      665     5.0  1147878820   \n4       1      899     3.5  1147868510   \n\n                                              title  \\\n0                               Pulp Fiction (1994)   \n1  Three Colors: Red (Trois couleurs: Rouge) (1994)   \n2  Three Colors: Blue (Trois couleurs: Bleu) (1993)   \n3                                Underground (1995)   \n4                        Singin' in the Rain (1952)   \n\n                        genres  \n0  Comedy|Crime|Drama|Thriller  \n1                        Drama  \n2                        Drama  \n3             Comedy|Drama|War  \n4       Comedy|Musical|Romance  ",
      "text/html": "<div>\n<style scoped>\n    .dataframe tbody tr th:only-of-type {\n        vertical-align: middle;\n    }\n\n    .dataframe tbody tr th {\n        vertical-align: top;\n    }\n\n    .dataframe thead th {\n        text-align: right;\n    }\n</style>\n<table border=\"1\" class=\"dataframe\">\n  <thead>\n    <tr style=\"text-align: right;\">\n      <th></th>\n      <th>userId</th>\n      <th>movieId</th>\n      <th>rating</th>\n      <th>timestamp</th>\n      <th>title</th>\n      <th>genres</th>\n    </tr>\n  </thead>\n  <tbody>\n    <tr>\n      <th>0</th>\n      <td>1</td>\n      <td>296</td>\n      <td>5.0</td>\n      <td>1147880044</td>\n      <td>Pulp Fiction (1994)</td>\n      <td>Comedy|Crime|Drama|Thriller</td>\n    </tr>\n    <tr>\n      <th>1</th>\n      <td>1</td>\n      <td>306</td>\n      <td>3.5</td>\n      <td>1147868817</td>\n      <td>Three Colors: Red (Trois couleurs: Rouge) (1994)</td>\n      <td>Drama</td>\n    </tr>\n    <tr>\n      <th>2</th>\n      <td>1</td>\n      <td>307</td>\n      <td>5.0</td>\n      <td>1147868828</td>\n      <td>Three Colors: Blue (Trois couleurs: Bleu) (1993)</td>\n      <td>Drama</td>\n    </tr>\n    <tr>\n      <th>3</th>\n      <td>1</td>\n      <td>665</td>\n      <td>5.0</td>\n      <td>1147878820</td>\n      <td>Underground (1995)</td>\n      <td>Comedy|Drama|War</td>\n    </tr>\n    <tr>\n      <th>4</th>\n      <td>1</td>\n      <td>899</td>\n      <td>3.5</td>\n      <td>1147868510</td>\n      <td>Singin' in the Rain (1952)</td>\n      <td>Comedy|Musical|Romance</td>\n    </tr>\n  </tbody>\n</table>\n</div>"
     },
     "execution_count": 4,
     "metadata": {},
     "output_type": "execute_result"
    }
   ],
   "source": [
    "df.head()"
   ],
   "metadata": {
    "collapsed": false,
    "pycharm": {
     "name": "#%%\n"
    }
   }
  },
  {
   "cell_type": "code",
   "execution_count": 5,
   "outputs": [
    {
     "data": {
      "text/plain": "count    2.500010e+07\nmean     3.533854e+00\nstd      1.060744e+00\nmin      5.000000e-01\n25%      3.000000e+00\n50%      3.500000e+00\n75%      4.000000e+00\nmax      5.000000e+00\nName: rating, dtype: float64"
     },
     "execution_count": 5,
     "metadata": {},
     "output_type": "execute_result"
    }
   ],
   "source": [
    "df.rating.describe()"
   ],
   "metadata": {
    "collapsed": false,
    "pycharm": {
     "name": "#%%\n"
    }
   }
  },
  {
   "cell_type": "code",
   "execution_count": 6,
   "outputs": [
    {
     "data": {
      "text/plain": "array([5. , 3.5, 4. , 2.5, 4.5, 3. , 0.5, 2. , 1. , 1.5])"
     },
     "execution_count": 6,
     "metadata": {},
     "output_type": "execute_result"
    }
   ],
   "source": [
    "df.rating.unique()"
   ],
   "metadata": {
    "collapsed": false,
    "pycharm": {
     "name": "#%%\n"
    }
   }
  },
  {
   "cell_type": "code",
   "execution_count": 7,
   "outputs": [],
   "source": [
    "df_train, df_val = train_test_split(df, random_state=42, test_size=0.2, stratify=df.rating)"
   ],
   "metadata": {
    "collapsed": false,
    "pycharm": {
     "name": "#%%\n"
    }
   }
  },
  {
   "cell_type": "code",
   "execution_count": 8,
   "outputs": [
    {
     "data": {
      "text/plain": "(25000095, 20000076, 5000019)"
     },
     "execution_count": 8,
     "metadata": {},
     "output_type": "execute_result"
    }
   ],
   "source": [
    "len(df), len(df_train), len(df_val)"
   ],
   "metadata": {
    "collapsed": false,
    "pycharm": {
     "name": "#%%\n"
    }
   }
  },
  {
   "cell_type": "code",
   "execution_count": 9,
   "outputs": [],
   "source": [
    "df_train.to_parquet(\"../data/processed/df_rating_movie_train.parquet\")\n",
    "df_val.to_parquet(\"../data/processed/df_rating_movie_val.parquet\")"
   ],
   "metadata": {
    "collapsed": false,
    "pycharm": {
     "name": "#%%\n"
    }
   }
  }
 ],
 "metadata": {
  "kernelspec": {
   "display_name": "Python 3",
   "language": "python",
   "name": "python3"
  },
  "language_info": {
   "codemirror_mode": {
    "name": "ipython",
    "version": 2
   },
   "file_extension": ".py",
   "mimetype": "text/x-python",
   "name": "python",
   "nbconvert_exporter": "python",
   "pygments_lexer": "ipython2",
   "version": "2.7.6"
  }
 },
 "nbformat": 4,
 "nbformat_minor": 0
}